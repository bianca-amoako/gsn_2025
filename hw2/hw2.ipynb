{
 "cells": [
  {
   "cell_type": "markdown",
   "id": "b74cce90",
   "metadata": {},
   "source": [
    "5.\tLoad and create the facebook graph https://snap.stanford.edu/data/facebook_combined.txt.gz using networkx, and calculate the average degree, transitivity, diameter and radius of the graph. (20 points)"
   ]
  },
  {
   "cell_type": "markdown",
   "id": "f01e42eb",
   "metadata": {},
   "source": [
    "### Set up Graph"
   ]
  },
  {
   "cell_type": "code",
   "execution_count": 17,
   "id": "57eaa5fc",
   "metadata": {},
   "outputs": [],
   "source": [
    "from pyvis.network import Network\n",
    "import networkx as nx\n",
    "import pandas as pd"
   ]
  },
  {
   "cell_type": "code",
   "execution_count": 18,
   "id": "bfa4240d",
   "metadata": {},
   "outputs": [
    {
     "data": {
      "text/html": [
       "<div>\n",
       "<style scoped>\n",
       "    .dataframe tbody tr th:only-of-type {\n",
       "        vertical-align: middle;\n",
       "    }\n",
       "\n",
       "    .dataframe tbody tr th {\n",
       "        vertical-align: top;\n",
       "    }\n",
       "\n",
       "    .dataframe thead th {\n",
       "        text-align: right;\n",
       "    }\n",
       "</style>\n",
       "<table border=\"1\" class=\"dataframe\">\n",
       "  <thead>\n",
       "    <tr style=\"text-align: right;\">\n",
       "      <th></th>\n",
       "      <th>Person1</th>\n",
       "      <th>Person2</th>\n",
       "    </tr>\n",
       "  </thead>\n",
       "  <tbody>\n",
       "    <tr>\n",
       "      <th>74346</th>\n",
       "      <td>2839</td>\n",
       "      <td>3064</td>\n",
       "    </tr>\n",
       "    <tr>\n",
       "      <th>62630</th>\n",
       "      <td>2309</td>\n",
       "      <td>2590</td>\n",
       "    </tr>\n",
       "    <tr>\n",
       "      <th>199</th>\n",
       "      <td>0</td>\n",
       "      <td>200</td>\n",
       "    </tr>\n",
       "    <tr>\n",
       "      <th>51398</th>\n",
       "      <td>2088</td>\n",
       "      <td>2468</td>\n",
       "    </tr>\n",
       "    <tr>\n",
       "      <th>27375</th>\n",
       "      <td>1319</td>\n",
       "      <td>1568</td>\n",
       "    </tr>\n",
       "  </tbody>\n",
       "</table>\n",
       "</div>"
      ],
      "text/plain": [
       "       Person1  Person2\n",
       "74346     2839     3064\n",
       "62630     2309     2590\n",
       "199          0      200\n",
       "51398     2088     2468\n",
       "27375     1319     1568"
      ]
     },
     "execution_count": 18,
     "metadata": {},
     "output_type": "execute_result"
    }
   ],
   "source": [
    "#import data which has directed edges\n",
    "data = pd.read_csv(\"facebook_combined.txt\", sep=\" \", header= None)\n",
    "data.columns = [\"Person1\", \"Person2\"]\n",
    "\n",
    "#visualize 1500 samples\n",
    "sample = data.sample(1500, random_state=1)\n",
    "sample.head()"
   ]
  },
  {
   "cell_type": "code",
   "execution_count": 19,
   "id": "673d0d55",
   "metadata": {},
   "outputs": [
    {
     "name": "stdout",
     "output_type": "stream",
     "text": [
      "graph2.html\n"
     ]
    },
    {
     "data": {
      "text/html": [
       "\n",
       "        <iframe\n",
       "            width=\"100%\"\n",
       "            height=\"750px\"\n",
       "            src=\"graph2.html\"\n",
       "            frameborder=\"0\"\n",
       "            allowfullscreen\n",
       "            \n",
       "        ></iframe>\n",
       "        "
      ],
      "text/plain": [
       "<IPython.lib.display.IFrame at 0x121246650>"
      ]
     },
     "execution_count": 19,
     "metadata": {},
     "output_type": "execute_result"
    }
   ],
   "source": [
    "#make the network\n",
    "net = Network(\n",
    "    notebook=True,\n",
    "    cdn_resources= \"remote\",\n",
    "    bgcolor= \"FFFDF2\",\n",
    "    font_color=\"black\", \n",
    "    height=\"750px\",\n",
    "    width=\"100%\"\n",
    ")\n",
    "\n",
    "#define list of sets of nodes using *sample, set for unique elements\n",
    "nodes = list(set([*sample.Person1, *sample.Person2]))\n",
    "\n",
    "#define edges using list of values (identities that have a connection)\n",
    "edges = sample.values.tolist()\n",
    "\n",
    "net.add_nodes(nodes)\n",
    "net.add_edges(edges)\n",
    "\n",
    "net.show(\"graph2.html\")\n"
   ]
  },
  {
   "cell_type": "markdown",
   "id": "42052383",
   "metadata": {},
   "source": [
    "### Calculate average degree, transitivity, diameter, radius"
   ]
  },
  {
   "cell_type": "code",
   "execution_count": 20,
   "id": "b493c0c4",
   "metadata": {},
   "outputs": [],
   "source": [
    "#load the graph\n",
    "G = nx.read_edgelist('facebook_combined.txt', create_using=nx.Graph(), nodetype=int)"
   ]
  },
  {
   "cell_type": "code",
   "execution_count": null,
   "id": "74764163",
   "metadata": {},
   "outputs": [
    {
     "name": "stdout",
     "output_type": "stream",
     "text": [
      "Average Degree: 43.69101262688784\n"
     ]
    }
   ],
   "source": [
    "#average degree \n",
    "avg_degree = sum(dict(G.degree()).values()) / G.number_of_nodes()\n",
    "print(\"Average Degree:\", avg_degree)"
   ]
  },
  {
   "cell_type": "code",
   "execution_count": null,
   "id": "2c7c5045",
   "metadata": {},
   "outputs": [
    {
     "name": "stdout",
     "output_type": "stream",
     "text": [
      "Transivity: 0.5191742775433075\n"
     ]
    }
   ],
   "source": [
    "#transivity (global clustering coefficient)\n",
    "trans = nx.transitivity(G)\n",
    "print(\"Transivity:\", trans)"
   ]
  },
  {
   "cell_type": "code",
   "execution_count": 31,
   "id": "6bfcd802",
   "metadata": {},
   "outputs": [
    {
     "name": "stdout",
     "output_type": "stream",
     "text": [
      "Diameter: 8 \n",
      "Radius: 4\n"
     ]
    }
   ],
   "source": [
    "#diameter and radius\n",
    "dia = nx.diameter(G)\n",
    "rad = nx.radius(G)\n",
    "\n",
    "print(\"Diameter:\", dia, \"\\nRadius:\", rad)"
   ]
  }
 ],
 "metadata": {
  "kernelspec": {
   "display_name": "Python 3",
   "language": "python",
   "name": "python3"
  },
  "language_info": {
   "codemirror_mode": {
    "name": "ipython",
    "version": 3
   },
   "file_extension": ".py",
   "mimetype": "text/x-python",
   "name": "python",
   "nbconvert_exporter": "python",
   "pygments_lexer": "ipython3",
   "version": "3.13.2"
  }
 },
 "nbformat": 4,
 "nbformat_minor": 5
}
